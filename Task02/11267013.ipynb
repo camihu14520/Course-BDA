{
 "cells": [
  {
   "cell_type": "code",
   "execution_count": 1,
   "id": "457a4abe-f4aa-4994-a943-eb07646294c6",
   "metadata": {},
   "outputs": [],
   "source": [
    "import numpy as np\n",
    "import pandas as pd"
   ]
  },
  {
   "cell_type": "code",
   "execution_count": 5,
   "id": "3d111489-e3d1-4ff6-a2b2-268bcd3abd72",
   "metadata": {},
   "outputs": [],
   "source": [
    "df1 = pd.read_csv(\"C:\\\\Users\\\\user\\\\Desktop\\\\all-cancelled-flights.csv\")\n",
    "df2 = pd.read_csv(\"C:\\\\Users\\\\user\\\\Desktop\\\\cancellation-codes.csv\")"
   ]
  },
  {
   "cell_type": "code",
   "execution_count": 7,
   "id": "b547b870-1954-4b38-a997-8c3676ee69e3",
   "metadata": {},
   "outputs": [],
   "source": [
    "merged_df = pd.merge(df1, df2, left_on='CANCELLATION_CODE', right_on='Code', how='left')"
   ]
  },
  {
   "cell_type": "code",
   "execution_count": 21,
   "id": "1d1ca2a9-aaf4-44bf-9ad3-e5ef6beb47da",
   "metadata": {},
   "outputs": [],
   "source": [
    "# 將合併後的結果寫入新的 CSV 文件\n",
    "merged_df.to_csv('Merged_Files.csv', index=False)"
   ]
  },
  {
   "cell_type": "code",
   "execution_count": 19,
   "id": "211d48c7-34f2-4a2b-b2ac-90295fb1c4fb",
   "metadata": {
    "scrolled": true
   },
   "outputs": [
    {
     "data": {
      "text/html": [
       "<div>\n",
       "<style scoped>\n",
       "    .dataframe tbody tr th:only-of-type {\n",
       "        vertical-align: middle;\n",
       "    }\n",
       "\n",
       "    .dataframe tbody tr th {\n",
       "        vertical-align: top;\n",
       "    }\n",
       "\n",
       "    .dataframe thead th {\n",
       "        text-align: right;\n",
       "    }\n",
       "</style>\n",
       "<table border=\"1\" class=\"dataframe\">\n",
       "  <thead>\n",
       "    <tr style=\"text-align: right;\">\n",
       "      <th></th>\n",
       "      <th>FLIGHT_DATE</th>\n",
       "      <th>DAY</th>\n",
       "      <th>OP_CARRIER</th>\n",
       "      <th>CARRIER_NAME</th>\n",
       "      <th>OP_CARRIER_FL_NUM</th>\n",
       "      <th>ORIGIN</th>\n",
       "      <th>DISPLAY_AIRPORT_NAME_ORIGIN</th>\n",
       "      <th>DEST</th>\n",
       "      <th>DISPLAY_AIRPORT_NAME_DEST</th>\n",
       "      <th>CANCELLATION_CODE</th>\n",
       "      <th>NUMBER_OF_FLIGHTS</th>\n",
       "      <th>LATITUDE_ORIGIN</th>\n",
       "      <th>LONGITUDE_ORIGIN</th>\n",
       "      <th>LATITUDE_DEST</th>\n",
       "      <th>LONGITUDE_DEST</th>\n",
       "      <th>DISTANCE_LEGEND</th>\n",
       "      <th>Code</th>\n",
       "      <th>Description</th>\n",
       "      <th>Unnamed: 2</th>\n",
       "    </tr>\n",
       "  </thead>\n",
       "  <tbody>\n",
       "    <tr>\n",
       "      <th>0</th>\n",
       "      <td>2020/10/1</td>\n",
       "      <td>Thursday</td>\n",
       "      <td>BA</td>\n",
       "      <td>AnyCompany Blue Airlines</td>\n",
       "      <td>5029</td>\n",
       "      <td>ATL</td>\n",
       "      <td>Atlanta Municipal</td>\n",
       "      <td>MLB</td>\n",
       "      <td>Melbourne Regional</td>\n",
       "      <td>A</td>\n",
       "      <td>1</td>\n",
       "      <td>33.640833</td>\n",
       "      <td>-84.427222</td>\n",
       "      <td>28.102500</td>\n",
       "      <td>-80.643056</td>\n",
       "      <td>250-499 Miles</td>\n",
       "      <td>A</td>\n",
       "      <td>Carrier</td>\n",
       "      <td>NaN</td>\n",
       "    </tr>\n",
       "    <tr>\n",
       "      <th>1</th>\n",
       "      <td>2020/10/1</td>\n",
       "      <td>Thursday</td>\n",
       "      <td>BA</td>\n",
       "      <td>AnyCompany Blue Airlines</td>\n",
       "      <td>5069</td>\n",
       "      <td>MLB</td>\n",
       "      <td>Melbourne Regional</td>\n",
       "      <td>ATL</td>\n",
       "      <td>Atlanta Municipal</td>\n",
       "      <td>A</td>\n",
       "      <td>1</td>\n",
       "      <td>28.102500</td>\n",
       "      <td>-80.643056</td>\n",
       "      <td>33.640833</td>\n",
       "      <td>-84.427222</td>\n",
       "      <td>250-499 Miles</td>\n",
       "      <td>A</td>\n",
       "      <td>Carrier</td>\n",
       "      <td>NaN</td>\n",
       "    </tr>\n",
       "    <tr>\n",
       "      <th>2</th>\n",
       "      <td>2020/10/1</td>\n",
       "      <td>Thursday</td>\n",
       "      <td>GA</td>\n",
       "      <td>AnyCompany Green Airlines</td>\n",
       "      <td>134</td>\n",
       "      <td>DFW</td>\n",
       "      <td>Dallas Fort Worth Regional</td>\n",
       "      <td>OGG</td>\n",
       "      <td>Kahului Airport</td>\n",
       "      <td>D</td>\n",
       "      <td>1</td>\n",
       "      <td>32.894444</td>\n",
       "      <td>-97.029722</td>\n",
       "      <td>20.900556</td>\n",
       "      <td>-156.433611</td>\n",
       "      <td>2500 Miles and Greater</td>\n",
       "      <td>D</td>\n",
       "      <td>Security</td>\n",
       "      <td>NaN</td>\n",
       "    </tr>\n",
       "    <tr>\n",
       "      <th>3</th>\n",
       "      <td>2020/10/1</td>\n",
       "      <td>Thursday</td>\n",
       "      <td>GA</td>\n",
       "      <td>AnyCompany Green Airlines</td>\n",
       "      <td>1960</td>\n",
       "      <td>OGG</td>\n",
       "      <td>Kahului Airport</td>\n",
       "      <td>PHX</td>\n",
       "      <td>Phoenix Sky Harbor International</td>\n",
       "      <td>D</td>\n",
       "      <td>1</td>\n",
       "      <td>20.900556</td>\n",
       "      <td>-156.433611</td>\n",
       "      <td>33.436111</td>\n",
       "      <td>-112.009444</td>\n",
       "      <td>2500 Miles and Greater</td>\n",
       "      <td>D</td>\n",
       "      <td>Security</td>\n",
       "      <td>NaN</td>\n",
       "    </tr>\n",
       "    <tr>\n",
       "      <th>4</th>\n",
       "      <td>2020/10/1</td>\n",
       "      <td>Thursday</td>\n",
       "      <td>GA</td>\n",
       "      <td>AnyCompany Green Airlines</td>\n",
       "      <td>2242</td>\n",
       "      <td>LAX</td>\n",
       "      <td>Los Angeles International</td>\n",
       "      <td>KOA</td>\n",
       "      <td>Keahole</td>\n",
       "      <td>D</td>\n",
       "      <td>1</td>\n",
       "      <td>33.942500</td>\n",
       "      <td>-118.408056</td>\n",
       "      <td>19.738889</td>\n",
       "      <td>-156.045556</td>\n",
       "      <td>2500 Miles and Greater</td>\n",
       "      <td>D</td>\n",
       "      <td>Security</td>\n",
       "      <td>NaN</td>\n",
       "    </tr>\n",
       "  </tbody>\n",
       "</table>\n",
       "</div>"
      ],
      "text/plain": [
       "  FLIGHT_DATE       DAY OP_CARRIER               CARRIER_NAME  \\\n",
       "0   2020/10/1  Thursday         BA   AnyCompany Blue Airlines   \n",
       "1   2020/10/1  Thursday         BA   AnyCompany Blue Airlines   \n",
       "2   2020/10/1  Thursday         GA  AnyCompany Green Airlines   \n",
       "3   2020/10/1  Thursday         GA  AnyCompany Green Airlines   \n",
       "4   2020/10/1  Thursday         GA  AnyCompany Green Airlines   \n",
       "\n",
       "   OP_CARRIER_FL_NUM ORIGIN DISPLAY_AIRPORT_NAME_ORIGIN DEST  \\\n",
       "0               5029    ATL           Atlanta Municipal  MLB   \n",
       "1               5069    MLB          Melbourne Regional  ATL   \n",
       "2                134    DFW  Dallas Fort Worth Regional  OGG   \n",
       "3               1960    OGG             Kahului Airport  PHX   \n",
       "4               2242    LAX   Los Angeles International  KOA   \n",
       "\n",
       "          DISPLAY_AIRPORT_NAME_DEST CANCELLATION_CODE  NUMBER_OF_FLIGHTS  \\\n",
       "0                Melbourne Regional                 A                  1   \n",
       "1                 Atlanta Municipal                 A                  1   \n",
       "2                   Kahului Airport                 D                  1   \n",
       "3  Phoenix Sky Harbor International                 D                  1   \n",
       "4                           Keahole                 D                  1   \n",
       "\n",
       "   LATITUDE_ORIGIN  LONGITUDE_ORIGIN  LATITUDE_DEST  LONGITUDE_DEST  \\\n",
       "0        33.640833        -84.427222      28.102500      -80.643056   \n",
       "1        28.102500        -80.643056      33.640833      -84.427222   \n",
       "2        32.894444        -97.029722      20.900556     -156.433611   \n",
       "3        20.900556       -156.433611      33.436111     -112.009444   \n",
       "4        33.942500       -118.408056      19.738889     -156.045556   \n",
       "\n",
       "          DISTANCE_LEGEND Code Description  Unnamed: 2  \n",
       "0           250-499 Miles    A     Carrier         NaN  \n",
       "1           250-499 Miles    A     Carrier         NaN  \n",
       "2  2500 Miles and Greater    D    Security         NaN  \n",
       "3  2500 Miles and Greater    D    Security         NaN  \n",
       "4  2500 Miles and Greater    D    Security         NaN  "
      ]
     },
     "execution_count": 19,
     "metadata": {},
     "output_type": "execute_result"
    }
   ],
   "source": [
    "merged_df.head()"
   ]
  },
  {
   "cell_type": "code",
   "execution_count": 27,
   "id": "3ef2067b-688c-49f1-89d9-61975c5f14f2",
   "metadata": {},
   "outputs": [
    {
     "data": {
      "text/plain": [
       "{'A': 0.37304272810711375,\n",
       " 'D': 0.012735315783046628,\n",
       " 'B': 0.5271388673329105,\n",
       " 'C': 0.08708308877692911}"
      ]
     },
     "execution_count": 27,
     "metadata": {},
     "output_type": "execute_result"
    }
   ],
   "source": [
    "from collections import Counter\n",
    "\n",
    "df = pd.DataFrame(merged_df)\n",
    "# 假設你的欄位名稱是 'column1'\n",
    "# 首先將字串的所有字符統計\n",
    "df['counts'] = df['CANCELLATION_CODE'].apply(lambda x: Counter(x))\n",
    "\n",
    "# 計算總長度並計算各字元所佔比例\n",
    "df['總長度'] = df['CANCELLATION_CODE'].apply(len)\n",
    "\n",
    "# 創建一個新的DataFrame來表示所有字元的總數\n",
    "counts_sum = df['counts'].sum()\n",
    "\n",
    "# 計算比例\n",
    "proportions = {key: value / df['總長度'].sum() for key, value in counts_sum.items()}\n",
    "proportions"
   ]
  },
  {
   "cell_type": "code",
   "execution_count": 31,
   "id": "58ef0e17-7502-47e6-bdea-685b7f4c7d99",
   "metadata": {},
   "outputs": [],
   "source": [
    "# 計算每個航班號取消的次數\n",
    "flight_cancellations = cancelled_flights['OP_CARRIER_FL_NUM'].value_counts()"
   ]
  },
  {
   "cell_type": "code",
   "execution_count": 33,
   "id": "1a02ba74-4df9-43c0-86ca-e2d7ce275fd6",
   "metadata": {},
   "outputs": [],
   "source": [
    "# 找出取消次數最多的航班號及其取消次數\n",
    "max_cancelled_flight = flight_cancellations.idxmax()  # 取消次數最多的航班號\n",
    "max_cancellations = flight_cancellations.max()  # 該航班號的取消次數"
   ]
  },
  {
   "cell_type": "code",
   "execution_count": 35,
   "id": "682d9820-5a71-4a4d-bca4-330b2b07f658",
   "metadata": {},
   "outputs": [],
   "source": [
    "# 計算總取消次數\n",
    "total_cancellations = flight_cancellations.sum()\n",
    "\n",
    "# 計算該航班號的取消百分比\n",
    "cancel_percentage = (max_cancellations / total_cancellations) * 100"
   ]
  },
  {
   "cell_type": "code",
   "execution_count": 39,
   "id": "8d428dcd-f8d2-4687-bea1-dd9f3f5ee177",
   "metadata": {},
   "outputs": [
    {
     "name": "stdout",
     "output_type": "stream",
     "text": [
      "取消最多的航班號是：76\n",
      "取消次數：153\n",
      "佔三年的百分比：0.06%\n"
     ]
    }
   ],
   "source": [
    "print(f\"取消最多的航班號是：{max_cancelled_flight}\")\n",
    "print(f\"取消次數：{max_cancellations}\")\n",
    "print(f\"佔三年的百分比：{cancel_percentage:.2f}%\")"
   ]
  },
  {
   "cell_type": "code",
   "execution_count": 41,
   "id": "bcf40dac-b273-4988-a4da-a1abc5c21b62",
   "metadata": {},
   "outputs": [],
   "source": [
    "# 確保FLIGHT_DATE列是日期格式\n",
    "df['FLIGHT_DATE'] = pd.to_datetime(df['FLIGHT_DATE'])"
   ]
  },
  {
   "cell_type": "code",
   "execution_count": 43,
   "id": "a716f73d-2bf3-4edf-a640-5e13990b2cd4",
   "metadata": {},
   "outputs": [],
   "source": [
    "# 過濾出出發地為OGG的航班\n",
    "ogg_flights = df[df['ORIGIN'] == 'OGG']"
   ]
  },
  {
   "cell_type": "code",
   "execution_count": 45,
   "id": "106c927a-7554-4933-8d90-3b12a6022057",
   "metadata": {},
   "outputs": [
    {
     "name": "stderr",
     "output_type": "stream",
     "text": [
      "C:\\Users\\user\\AppData\\Local\\Temp\\ipykernel_22688\\3784888670.py:2: SettingWithCopyWarning: \n",
      "A value is trying to be set on a copy of a slice from a DataFrame.\n",
      "Try using .loc[row_indexer,col_indexer] = value instead\n",
      "\n",
      "See the caveats in the documentation: https://pandas.pydata.org/pandas-docs/stable/user_guide/indexing.html#returning-a-view-versus-a-copy\n",
      "  ogg_flights['year'] = ogg_flights['FLIGHT_DATE'].dt.year\n"
     ]
    }
   ],
   "source": [
    "# 確保FLIGHT_DATE是datetime格式\n",
    "ogg_flights['year'] = ogg_flights['FLIGHT_DATE'].dt.year\n",
    "\n",
    "# 計算每年每個取消原因的出現次數\n",
    "cancellation_by_year = ogg_flights.groupby(['year', 'CANCELLATION_CODE']).size().unstack(fill_value=0)\n",
    "\n",
    "# 計算每年每個取消原因的占比\n",
    "cancellation_percentage = cancellation_by_year.div(cancellation_by_year.sum(axis=1), axis=0) * 100"
   ]
  },
  {
   "cell_type": "code",
   "execution_count": 47,
   "id": "dd3eff77-ab8a-43ab-9694-3b24b03368e9",
   "metadata": {},
   "outputs": [
    {
     "name": "stdout",
     "output_type": "stream",
     "text": [
      "CANCELLATION_CODE          A         B         C          D\n",
      "year                                                       \n",
      "2020               10.994764  1.047120  0.000000  87.958115\n",
      "2021               91.071429  6.696429  0.446429   1.785714\n",
      "2022               97.340426  2.127660  0.531915   0.000000\n"
     ]
    }
   ],
   "source": [
    "print(cancellation_percentage)"
   ]
  },
  {
   "cell_type": "code",
   "execution_count": 53,
   "id": "40d6abe8-858e-4388-a1bd-f043f5b090d2",
   "metadata": {},
   "outputs": [],
   "source": [
    "# 過濾出出發地為IAD的航班\n",
    "iad_flights = df[df['ORIGIN'] == 'IAD']\n",
    "\n",
    "# 計算每個航空公司的航班次數\n",
    "carrier_flight_counts = iad_flights.groupby(['OP_CARRIER', 'CARRIER_NAME']).size().reset_index(name='Flight_Count')\n",
    "\n",
    "# 找出起飛次數最多的航空公司\n",
    "top_carrier = carrier_flight_counts.sort_values(by='Flight_Count', ascending=False).iloc[0]"
   ]
  },
  {
   "cell_type": "code",
   "execution_count": 55,
   "id": "1089f290-0df0-4a89-bff2-da68aaccef7d",
   "metadata": {},
   "outputs": [],
   "source": [
    "# 過濾出被取消的航班\n",
    "cancelled_iad_flights = iad_flights[iad_flights['CANCELLATION_CODE'].notnull()]\n",
    "\n",
    "# 計算每個取消原因的出現次數\n",
    "cancellation_reasons = cancelled_iad_flights['CANCELLATION_CODE'].value_counts()\n",
    "\n",
    "# 找出最常見的取消原因\n",
    "top_cancellation_reason = cancellation_reasons.idxmax()"
   ]
  },
  {
   "cell_type": "code",
   "execution_count": 57,
   "id": "5ecbeef6-1898-484d-9521-9cea4c387581",
   "metadata": {},
   "outputs": [
    {
     "name": "stdout",
     "output_type": "stream",
     "text": [
      "從IAD起飛架次最多的航空公司是: AnyCompany Apricot Airlines (AA)\n",
      "從IAD起飛航班遭取消的最常見原因是: B\n"
     ]
    }
   ],
   "source": [
    "print(f\"從IAD起飛架次最多的航空公司是: {top_carrier['CARRIER_NAME']} ({top_carrier['OP_CARRIER']})\")\n",
    "print(f\"從IAD起飛航班遭取消的最常見原因是: {top_cancellation_reason}\")"
   ]
  },
  {
   "cell_type": "code",
   "execution_count": 59,
   "id": "2eee8719-cb19-4196-b146-caf2f66caa89",
   "metadata": {},
   "outputs": [],
   "source": [
    "# 過濾取消原因為C或D的航班\n",
    "cancelled_without_CD = cancelled_flights[~cancelled_flights['CANCELLATION_CODE'].isin(['C', 'D'])]"
   ]
  },
  {
   "cell_type": "code",
   "execution_count": 61,
   "id": "26c4541c-c6f3-478a-ab89-ceff109a4401",
   "metadata": {},
   "outputs": [],
   "source": [
    "# 找出取消原因為C或D的航班\n",
    "cancelled_with_CD = cancelled_flights[cancelled_flights['CANCELLATION_CODE'].isin(['C', 'D'])]\n",
    "\n",
    "# 找出所有航空公司代號\n",
    "all_carriers = df['OP_CARRIER'].unique()\n",
    "\n",
    "# 找出有取消C或D原因的航空公司\n",
    "carriers_with_CD = cancelled_with_CD['OP_CARRIER'].unique()\n",
    "\n",
    "# 找出從未因C或D取消的航空公司\n",
    "carriers_without_CD = [carrier for carrier in all_carriers if carrier not in carriers_with_CD]\n",
    "\n",
    "# 過濾出這些航空公司的數據\n",
    "flights_without_CD = cancelled_without_CD[cancelled_without_CD['OP_CARRIER'].isin(carriers_without_CD)]"
   ]
  },
  {
   "cell_type": "code",
   "execution_count": 63,
   "id": "c6ff8943-9a0c-4c6e-997a-caeea04db4ec",
   "metadata": {},
   "outputs": [
    {
     "name": "stdout",
     "output_type": "stream",
     "text": [
      "  OP_CARRIER  Cancelled_Flight_Count\n",
      "0         RA                    5428\n"
     ]
    }
   ],
   "source": [
    "# 計算取消的航班數量\n",
    "cancelled_counts = flights_without_CD.groupby('OP_CARRIER').size().reset_index(name='Cancelled_Flight_Count')\n",
    "\n",
    "print(cancelled_counts)"
   ]
  },
  {
   "cell_type": "code",
   "execution_count": null,
   "id": "7243776c-1e12-4f17-8751-6d5dff6ee017",
   "metadata": {},
   "outputs": [],
   "source": []
  }
 ],
 "metadata": {
  "kernelspec": {
   "display_name": "Python 3 (ipykernel)",
   "language": "python",
   "name": "python3"
  },
  "language_info": {
   "codemirror_mode": {
    "name": "ipython",
    "version": 3
   },
   "file_extension": ".py",
   "mimetype": "text/x-python",
   "name": "python",
   "nbconvert_exporter": "python",
   "pygments_lexer": "ipython3",
   "version": "3.12.4"
  }
 },
 "nbformat": 4,
 "nbformat_minor": 5
}
