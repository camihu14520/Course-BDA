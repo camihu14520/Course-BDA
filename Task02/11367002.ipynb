{
  "nbformat": 4,
  "nbformat_minor": 0,
  "metadata": {
    "colab": {
      "provenance": []
    },
    "kernelspec": {
      "name": "python3",
      "display_name": "Python 3"
    },
    "language_info": {
      "name": "python"
    }
  },
  "cells": [
    {
      "cell_type": "code",
      "execution_count": 15,
      "metadata": {
        "colab": {
          "base_uri": "https://localhost:8080/"
        },
        "id": "mPG8znXz8pcc",
        "outputId": "6a596ff0-2c1e-419c-bd22-7cd1dffca6a3"
      },
      "outputs": [
        {
          "output_type": "stream",
          "name": "stdout",
          "text": [
            "Drive already mounted at /content/drive; to attempt to forcibly remount, call drive.mount(\"/content/drive\", force_remount=True).\n"
          ]
        }
      ],
      "source": [
        "from google.colab import drive\n",
        "drive.mount('/content/drive')"
      ]
    },
    {
      "cell_type": "code",
      "source": [
        "import pandas as pd"
      ],
      "metadata": {
        "id": "7sLe8Y7i83VK"
      },
      "execution_count": 16,
      "outputs": []
    },
    {
      "cell_type": "code",
      "source": [
        "df1 = pd.read_csv('/content/drive/MyDrive/Task2/all-cancelled-flights.csv')\n",
        "df2 = pd.read_csv('/content/drive/MyDrive/Task2/cancellation-codes.csv')\n",
        "print(df1.head())\n"
      ],
      "metadata": {
        "colab": {
          "base_uri": "https://localhost:8080/"
        },
        "id": "xGcTXcKe9L_L",
        "outputId": "6e17941a-2cc1-4df0-a8c0-d175f881b06f"
      },
      "execution_count": 17,
      "outputs": [
        {
          "output_type": "stream",
          "name": "stdout",
          "text": [
            "  FLIGHT_DATE       DAY OP_CARRIER               CARRIER_NAME  \\\n",
            "0  2020-10-01  Thursday         BA   AnyCompany Blue Airlines   \n",
            "1  2020-10-01  Thursday         BA   AnyCompany Blue Airlines   \n",
            "2  2020-10-01  Thursday         GA  AnyCompany Green Airlines   \n",
            "3  2020-10-01  Thursday         GA  AnyCompany Green Airlines   \n",
            "4  2020-10-01  Thursday         GA  AnyCompany Green Airlines   \n",
            "\n",
            "   OP_CARRIER_FL_NUM ORIGIN DISPLAY_AIRPORT_NAME_ORIGIN DEST  \\\n",
            "0               5029    ATL           Atlanta Municipal  MLB   \n",
            "1               5069    MLB          Melbourne Regional  ATL   \n",
            "2                134    DFW  Dallas Fort Worth Regional  OGG   \n",
            "3               1960    OGG             Kahului Airport  PHX   \n",
            "4               2242    LAX   Los Angeles International  KOA   \n",
            "\n",
            "          DISPLAY_AIRPORT_NAME_DEST CANCELLATION_CODE  NUMBER_OF_FLIGHTS  \\\n",
            "0                Melbourne Regional                 A                  1   \n",
            "1                 Atlanta Municipal                 A                  1   \n",
            "2                   Kahului Airport                 D                  1   \n",
            "3  Phoenix Sky Harbor International                 D                  1   \n",
            "4                           Keahole                 D                  1   \n",
            "\n",
            "   LATITUDE_ORIGIN  LONGITUDE_ORIGIN  LATITUDE_DEST  LONGITUDE_DEST  \\\n",
            "0        33.640833        -84.427222      28.102500      -80.643056   \n",
            "1        28.102500        -80.643056      33.640833      -84.427222   \n",
            "2        32.894444        -97.029722      20.900556     -156.433611   \n",
            "3        20.900556       -156.433611      33.436111     -112.009444   \n",
            "4        33.942500       -118.408056      19.738889     -156.045556   \n",
            "\n",
            "          DISTANCE_LEGEND  \n",
            "0           250-499 Miles  \n",
            "1           250-499 Miles  \n",
            "2  2500 Miles and Greater  \n",
            "3  2500 Miles and Greater  \n",
            "4  2500 Miles and Greater  \n"
          ]
        }
      ]
    },
    {
      "cell_type": "code",
      "source": [
        "# 計算CANCELL欄位中各類別的數量\n",
        "cancel_counts = df1['CANCELLATION_CODE'].value_counts()\n",
        "\n",
        "# 計算各類別的百分比\n",
        "cancel_percentage = cancel_counts / cancel_counts.sum() * 100\n",
        "\n",
        "# 顯示結果\n",
        "print(cancel_percentage)"
      ],
      "metadata": {
        "colab": {
          "base_uri": "https://localhost:8080/"
        },
        "id": "zzyPydTe-trk",
        "outputId": "753aa80a-e639-4673-f891-c40e6854cfa6"
      },
      "execution_count": 18,
      "outputs": [
        {
          "output_type": "stream",
          "name": "stdout",
          "text": [
            "CANCELLATION_CODE\n",
            "B    52.713887\n",
            "A    37.304273\n",
            "C     8.708309\n",
            "D     1.273532\n",
            "Name: count, dtype: float64\n"
          ]
        }
      ]
    },
    {
      "cell_type": "code",
      "source": [
        "# 計算每個航班班機號的出現次數\n",
        "flight_counts = df1['OP_CARRIER_FL_NUM'].value_counts()\n",
        "\n",
        "# 找出出現次數最多的航班班機號\n",
        "most_frequent_flight = flight_counts.idxmax()\n",
        "most_frequent_count = flight_counts.max()\n",
        "\n",
        "# 計算該航班號的占比\n",
        "total_flights = flight_counts.sum()\n",
        "most_frequent_percentage = (most_frequent_count / total_flights) * 100\n",
        "\n",
        "# 顯示結果\n",
        "print(f\"取消最多的航班班機號是: {most_frequent_flight}，取消了 {most_frequent_count} 次，占比為 {most_frequent_percentage:.2f}%\")"
      ],
      "metadata": {
        "colab": {
          "base_uri": "https://localhost:8080/"
        },
        "id": "4QB02olr_CPz",
        "outputId": "06cdf609-396f-43f7-e489-a4d837b4db8f"
      },
      "execution_count": 19,
      "outputs": [
        {
          "output_type": "stream",
          "name": "stdout",
          "text": [
            "取消最多的航班班機號是: 76，取消了 153 次，占比為 0.06%\n"
          ]
        }
      ]
    },
    {
      "cell_type": "code",
      "source": [
        "# 確保日期格式正確，將FL_DATE轉換為datetime格式\n",
        "df1['FLIGHT_DATE'] = pd.to_datetime(df1['FLIGHT_DATE'])\n",
        "\n",
        "# 篩選出出發地為OGG的航班\n",
        "ogg_flights = df1[df1['ORIGIN'] == 'OGG']\n",
        "\n",
        "# 篩選2020/10/01-2020/12/31、2021和2022/01/01-2022/10/31的資料\n",
        "df1_2020 = ogg_flights[(ogg_flights['FLIGHT_DATE'] >= '2020-10-01') & (ogg_flights['FLIGHT_DATE'] <= '2020-12-31')]\n",
        "df1_2021 = ogg_flights[(ogg_flights['FLIGHT_DATE'] >= '2021-01-01') & (ogg_flights['FLIGHT_DATE'] <= '2021-12-31')]\n",
        "df1_2022 = ogg_flights[(ogg_flights['FLIGHT_DATE'] >= '2022-01-01') & (ogg_flights['FLIGHT_DATE'] <= '2022-10-31')]\n",
        "\n",
        "# 定義函數計算每一年取消航班的總占比及取消原因占比\n",
        "def calculate_cancellation_stats(dataframe, year):\n",
        "    # 篩選出已取消的航班\n",
        "    cancelled_flights = dataframe[dataframe['CANCELLATION_CODE'].notna()]\n",
        "\n",
        "    # 計算取消航班的占比\n",
        "    cancelled_percentage = (len(cancelled_flights) / len(dataframe)) * 100 if len(dataframe) > 0 else 0\n",
        "\n",
        "    # 計算取消原因的占比\n",
        "    cancel_reason_percentage = cancelled_flights['CANCELLATION_CODE'].value_counts(normalize=True) * 100\n",
        "\n",
        "    # 顯示結果\n",
        "    print(f\"{year} 年的取消原因占比:\")\n",
        "    print(cancel_reason_percentage)\n",
        "\n",
        "# 分別計算每一年的結果\n",
        "calculate_cancellation_stats(df1_2020, 2020)\n",
        "calculate_cancellation_stats(df1_2021, 2021)\n",
        "calculate_cancellation_stats(df1_2022, 2022)"
      ],
      "metadata": {
        "colab": {
          "base_uri": "https://localhost:8080/"
        },
        "id": "gmgFD0zEAcUq",
        "outputId": "d4d94636-5903-4e04-9188-6dfc54aca747"
      },
      "execution_count": 25,
      "outputs": [
        {
          "output_type": "stream",
          "name": "stdout",
          "text": [
            "2020 年的取消原因占比:\n",
            "CANCELLATION_CODE\n",
            "D    87.958115\n",
            "A    10.994764\n",
            "B     1.047120\n",
            "Name: proportion, dtype: float64\n",
            "2021 年的取消原因占比:\n",
            "CANCELLATION_CODE\n",
            "A    91.071429\n",
            "B     6.696429\n",
            "D     1.785714\n",
            "C     0.446429\n",
            "Name: proportion, dtype: float64\n",
            "2022 年的取消原因占比:\n",
            "CANCELLATION_CODE\n",
            "A    97.340426\n",
            "B     2.127660\n",
            "C     0.531915\n",
            "Name: proportion, dtype: float64\n"
          ]
        }
      ]
    },
    {
      "cell_type": "code",
      "source": [
        "# 篩選出ORIGIN為IAD的航班\n",
        "iad_flights = df1[df1['ORIGIN'] == 'IAD']\n",
        "\n",
        "# 找出從IAD起飛次數最多的航班名(OP_CARRIER)\n",
        "most_frequent_carrier = iad_flights['OP_CARRIER'].value_counts().idxmax()\n",
        "most_frequent_carrier_count = iad_flights['OP_CARRIER'].value_counts().max()\n",
        "\n",
        "# 篩選出該航班名的所有航班\n",
        "carrier_flights = iad_flights[iad_flights['OP_CARRIER'] == most_frequent_carrier]\n",
        "\n",
        "# 找出該航班名中被取消的航班，並計算取消原因的出現次數\n",
        "cancelled_carrier_flights = carrier_flights[carrier_flights['CANCELLATION_CODE'].notna()]\n",
        "most_frequent_cancellation = cancelled_carrier_flights['CANCELLATION_CODE'].value_counts().idxmax()\n",
        "most_frequent_cancellation_count = cancelled_carrier_flights['CANCELLATION_CODE'].value_counts().max()\n",
        "\n",
        "# 顯示結果\n",
        "print(f\"從IAD起飛次數最多的航班名是: {most_frequent_carrier}，共 {most_frequent_carrier_count} 次\")\n",
        "if not cancelled_carrier_flights.empty:\n",
        "    print(f\"該航班最常遇到的取消原因是: {most_frequent_cancellation}，出現了 {most_frequent_cancellation_count} 次\")\n",
        "else:\n",
        "    print(f\"該航班從未被取消\")"
      ],
      "metadata": {
        "colab": {
          "base_uri": "https://localhost:8080/"
        },
        "id": "pOdJ2lpOCuHD",
        "outputId": "63ad8df3-6a7d-409b-aed2-d0d722f4557c"
      },
      "execution_count": 28,
      "outputs": [
        {
          "output_type": "stream",
          "name": "stdout",
          "text": [
            "從IAD起飛次數最多的航班名是: AA，共 654 次\n",
            "該航班最常遇到的取消原因是: B，出現了 289 次\n"
          ]
        }
      ]
    },
    {
      "cell_type": "code",
      "source": [
        "import os\n",
        "merged_data = pd.merge(df1, df2, left_on='CANCELLATION_CODE', right_on='Code', how='left')\n",
        "print(merged_data.head())\n",
        "# 指定保存的路徑 (Google Drive 中的 Task2 資料夾)\n",
        "output_path = '/content/drive/MyDrive/Task2/merged_cancelled_flights.csv'\n",
        "\n",
        "# 在保存檔案前，先檢查目錄是否存在，如果不存在則建立\n",
        "os.makedirs(os.path.dirname(output_path), exist_ok=True)\n",
        "\n",
        "# 保存合併結果到 Task2 資料夾\n",
        "merged_data.to_csv(output_path, index=False)\n",
        "\n",
        "print(f\"合併後的檔案已成功保存到: {output_path}\")"
      ],
      "metadata": {
        "colab": {
          "base_uri": "https://localhost:8080/"
        },
        "id": "3yOVGpoEF3CD",
        "outputId": "51de5e19-e3ac-41be-d14b-0d3384ddf919"
      },
      "execution_count": 33,
      "outputs": [
        {
          "output_type": "stream",
          "name": "stdout",
          "text": [
            "  FLIGHT_DATE       DAY OP_CARRIER               CARRIER_NAME  \\\n",
            "0  2020-10-01  Thursday         BA   AnyCompany Blue Airlines   \n",
            "1  2020-10-01  Thursday         BA   AnyCompany Blue Airlines   \n",
            "2  2020-10-01  Thursday         GA  AnyCompany Green Airlines   \n",
            "3  2020-10-01  Thursday         GA  AnyCompany Green Airlines   \n",
            "4  2020-10-01  Thursday         GA  AnyCompany Green Airlines   \n",
            "\n",
            "   OP_CARRIER_FL_NUM ORIGIN DISPLAY_AIRPORT_NAME_ORIGIN DEST  \\\n",
            "0               5029    ATL           Atlanta Municipal  MLB   \n",
            "1               5069    MLB          Melbourne Regional  ATL   \n",
            "2                134    DFW  Dallas Fort Worth Regional  OGG   \n",
            "3               1960    OGG             Kahului Airport  PHX   \n",
            "4               2242    LAX   Los Angeles International  KOA   \n",
            "\n",
            "          DISPLAY_AIRPORT_NAME_DEST CANCELLATION_CODE  NUMBER_OF_FLIGHTS  \\\n",
            "0                Melbourne Regional                 A                  1   \n",
            "1                 Atlanta Municipal                 A                  1   \n",
            "2                   Kahului Airport                 D                  1   \n",
            "3  Phoenix Sky Harbor International                 D                  1   \n",
            "4                           Keahole                 D                  1   \n",
            "\n",
            "   LATITUDE_ORIGIN  LONGITUDE_ORIGIN  LATITUDE_DEST  LONGITUDE_DEST  \\\n",
            "0        33.640833        -84.427222      28.102500      -80.643056   \n",
            "1        28.102500        -80.643056      33.640833      -84.427222   \n",
            "2        32.894444        -97.029722      20.900556     -156.433611   \n",
            "3        20.900556       -156.433611      33.436111     -112.009444   \n",
            "4        33.942500       -118.408056      19.738889     -156.045556   \n",
            "\n",
            "          DISTANCE_LEGEND Code Description  \n",
            "0           250-499 Miles    A     Carrier  \n",
            "1           250-499 Miles    A     Carrier  \n",
            "2  2500 Miles and Greater    D    Security  \n",
            "3  2500 Miles and Greater    D    Security  \n",
            "4  2500 Miles and Greater    D    Security  \n",
            "合併後的檔案已成功保存到: /content/drive/MyDrive/Task2/merged_cancelled_flights.csv\n"
          ]
        }
      ]
    },
    {
      "cell_type": "code",
      "source": [
        "# 篩選出取消原因是 \"National Air System\" 或 \"Security\" 的資料\n",
        "affected_flights = merged_data[merged_data['Description'].isin(['National Air System', 'Security'])]\n",
        "\n",
        "# 找出受到這兩種原因取消航班的航空公司\n",
        "affected_carriers = affected_flights['CARRIER_NAME'].unique()\n",
        "\n",
        "# 找出未受到這兩種原因取消航班的航空公司\n",
        "all_carriers = merged_data['CARRIER_NAME'].unique()\n",
        "unaffected_carriers = [carrier for carrier in all_carriers if carrier not in affected_carriers]\n",
        "\n",
        "# 計算每個航空公司因為 \"National Air System\" 或 \"Security\" 被取消的航班次數\n",
        "carrier_cancellation_counts = affected_flights['CARRIER_NAME'].value_counts()\n",
        "\n",
        "# 顯示結果\n",
        "print(\"未受到 'National Air System' 和 'Security' 取消航班的航空公司:\")\n",
        "print(unaffected_carriers)\n",
        "\n",
        "print(\"\\n曾經因 'National Air System' 和 'Security' 取消航班的航空公司以及取消次數:\")\n",
        "print(carrier_cancellation_counts)"
      ],
      "metadata": {
        "colab": {
          "base_uri": "https://localhost:8080/"
        },
        "id": "p5shzfFOIOhD",
        "outputId": "7c31ee32-38a4-4e73-8bc9-637c8d0886e6"
      },
      "execution_count": 34,
      "outputs": [
        {
          "output_type": "stream",
          "name": "stdout",
          "text": [
            "未受到 'National Air System' 和 'Security' 取消航班的航空公司:\n",
            "['AnyCompany Red Airlines']\n",
            "\n",
            "曾經因 'National Air System' 和 'Security' 取消航班的航空公司以及取消次數:\n",
            "CARRIER_NAME\n",
            "AnyCompany Yellow Airlines      3848\n",
            "AnyCompany Sand Airlines        3617\n",
            "AnyCompany Blue Airlines        3378\n",
            "AnyCompany Eclipse Airlines     2747\n",
            "AnyCompany Green Airlines       2009\n",
            "AnyCompany Carrot Airlines      1728\n",
            "AnyCompany Apricot Airlines     1592\n",
            "AnyCompany Denim Airlines       1520\n",
            "AnyCompany Pink Airlines        1394\n",
            "AnyCompany Maroon Airlines       980\n",
            "AnyCompany Violet Airlines       787\n",
            "AnyCompany Flint Airlines        708\n",
            "AnyCompany Harp Airlines         620\n",
            "AnyCompany Lavender Airlines     198\n",
            "AnyCompany Indigo Airlines       129\n",
            "AnyCompany Orange Airlines        85\n",
            "Name: count, dtype: int64\n"
          ]
        }
      ]
    }
  ]
}