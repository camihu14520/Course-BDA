{
  "nbformat": 4,
  "nbformat_minor": 0,
  "metadata": {
    "colab": {
      "provenance": [],
      "authorship_tag": "ABX9TyMpUsDckFjusEF9a4dA1Wef",
      "include_colab_link": true
    },
    "kernelspec": {
      "name": "python3",
      "display_name": "Python 3"
    },
    "language_info": {
      "name": "python"
    }
  },
  "cells": [
    {
      "cell_type": "markdown",
      "metadata": {
        "id": "view-in-github",
        "colab_type": "text"
      },
      "source": [
        "<a href=\"https://colab.research.google.com/github/camihu14520/Course-BDA/blob/main/11367008.ipynb\" target=\"_parent\"><img src=\"https://colab.research.google.com/assets/colab-badge.svg\" alt=\"Open In Colab\"/></a>"
      ]
    },
    {
      "cell_type": "code",
      "source": [
        "import pandas as pd\n",
        "from google.colab import drive\n",
        "drive.mount('/content/drive')\n",
        "df1 = pd.read_csv('/content/drive/My Drive/all-cancelled-flights.csv')\n",
        "df2 = pd.read_csv('/content/drive/My Drive/cancellation-codes.csv')\n",
        "import os\n",
        "merged_data = pd.merge(df1, df2, left_on='CANCELLATION_CODE', right_on='Code', how='left')\n",
        "print(merged_data.head())\n",
        "output_path = '/content/drive/MyDrive/Task2/merged_cancelled_flights.csv'\n",
        "os.makedirs(os.path.dirname(output_path), exist_ok=True)\n",
        "merged_data.to_csv(output_path, index=False)\n",
        "print(f\"合併後的檔案: {output_path}\")"
      ],
      "metadata": {
        "colab": {
          "base_uri": "https://localhost:8080/"
        },
        "id": "wWMEThJVa2nS",
        "outputId": "a8a5df67-45c2-48b1-e084-4327f6981452"
      },
      "execution_count": 24,
      "outputs": [
        {
          "output_type": "stream",
          "name": "stdout",
          "text": [
            "Drive already mounted at /content/drive; to attempt to forcibly remount, call drive.mount(\"/content/drive\", force_remount=True).\n",
            "  FLIGHT_DATE       DAY OP_CARRIER               CARRIER_NAME  \\\n",
            "0  2020-10-01  Thursday         BA   AnyCompany Blue Airlines   \n",
            "1  2020-10-01  Thursday         BA   AnyCompany Blue Airlines   \n",
            "2  2020-10-01  Thursday         GA  AnyCompany Green Airlines   \n",
            "3  2020-10-01  Thursday         GA  AnyCompany Green Airlines   \n",
            "4  2020-10-01  Thursday         GA  AnyCompany Green Airlines   \n",
            "\n",
            "   OP_CARRIER_FL_NUM ORIGIN DISPLAY_AIRPORT_NAME_ORIGIN DEST  \\\n",
            "0               5029    ATL           Atlanta Municipal  MLB   \n",
            "1               5069    MLB          Melbourne Regional  ATL   \n",
            "2                134    DFW  Dallas Fort Worth Regional  OGG   \n",
            "3               1960    OGG             Kahului Airport  PHX   \n",
            "4               2242    LAX   Los Angeles International  KOA   \n",
            "\n",
            "          DISPLAY_AIRPORT_NAME_DEST CANCELLATION_CODE  NUMBER_OF_FLIGHTS  \\\n",
            "0                Melbourne Regional                 A                  1   \n",
            "1                 Atlanta Municipal                 A                  1   \n",
            "2                   Kahului Airport                 D                  1   \n",
            "3  Phoenix Sky Harbor International                 D                  1   \n",
            "4                           Keahole                 D                  1   \n",
            "\n",
            "   LATITUDE_ORIGIN  LONGITUDE_ORIGIN  LATITUDE_DEST  LONGITUDE_DEST  \\\n",
            "0        33.640833        -84.427222      28.102500      -80.643056   \n",
            "1        28.102500        -80.643056      33.640833      -84.427222   \n",
            "2        32.894444        -97.029722      20.900556     -156.433611   \n",
            "3        20.900556       -156.433611      33.436111     -112.009444   \n",
            "4        33.942500       -118.408056      19.738889     -156.045556   \n",
            "\n",
            "          DISTANCE_LEGEND Code Description  \n",
            "0           250-499 Miles    A     Carrier  \n",
            "1           250-499 Miles    A     Carrier  \n",
            "2  2500 Miles and Greater    D    Security  \n",
            "3  2500 Miles and Greater    D    Security  \n",
            "4  2500 Miles and Greater    D    Security  \n",
            "合併後的檔案: /content/drive/MyDrive/Task2/merged_cancelled_flights.csv\n"
          ]
        }
      ]
    },
    {
      "cell_type": "code",
      "source": [
        "cancel_counts = df1['CANCELLATION_CODE'].value_counts()\n",
        "print(cancel_counts)\n",
        "cancel_percentage = cancel_counts / cancel_counts.sum() * 100\n",
        "print(cancel_percentage)"
      ],
      "metadata": {
        "colab": {
          "base_uri": "https://localhost:8080/"
        },
        "id": "yDEIHbKIW-sk",
        "outputId": "7f96a8f1-9484-4caf-d46b-4013ca145d42"
      },
      "execution_count": 12,
      "outputs": [
        {
          "output_type": "stream",
          "name": "stdout",
          "text": [
            "CANCELLATION_CODE\n",
            "B    133820\n",
            "A     94701\n",
            "C     22107\n",
            "D      3233\n",
            "Name: count, dtype: int64\n",
            "CANCELLATION_CODE\n",
            "B    52.713887\n",
            "A    37.304273\n",
            "C     8.708309\n",
            "D     1.273532\n",
            "Name: count, dtype: float64\n"
          ]
        }
      ]
    },
    {
      "cell_type": "code",
      "source": [
        "flight_counts = df1['OP_CARRIER_FL_NUM'].value_counts()\n",
        "most_frequent_flight = flight_counts.idxmax()\n",
        "most_frequent_count = flight_counts.max()\n",
        "total_flights = flight_counts.sum()\n",
        "most_frequent_percentage = (most_frequent_count / total_flights) * 100\n",
        "print(f\"取消最多的航班班機號是: {most_frequent_flight}，取消了 {most_frequent_count} 次，占比為 {most_frequent_percentage:.2f}%\")\n",
        "\n"
      ],
      "metadata": {
        "colab": {
          "base_uri": "https://localhost:8080/"
        },
        "id": "IzRXpZG9XO40",
        "outputId": "b78db892-e03b-4253-bd53-62b1cc4de6ed"
      },
      "execution_count": 22,
      "outputs": [
        {
          "output_type": "stream",
          "name": "stdout",
          "text": [
            "取消最多的航班班機號是: 76，取消了 153 次，占比為 0.06%\n"
          ]
        }
      ]
    },
    {
      "cell_type": "code",
      "source": [
        "df1['FLIGHT_DATE'] = pd.to_datetime(df1['FLIGHT_DATE'])\n",
        "ogg_flights = df1[df1['ORIGIN'] == 'OGG']\n",
        "df1_2020 = ogg_flights[(ogg_flights['FLIGHT_DATE'] >= '2020-10-01') & (ogg_flights['FLIGHT_DATE'] <= '2020-12-31')]\n",
        "df1_2021 = ogg_flights[(ogg_flights['FLIGHT_DATE'] >= '2021-01-01') & (ogg_flights['FLIGHT_DATE'] <= '2021-12-31')]\n",
        "df1_2022 = ogg_flights[(ogg_flights['FLIGHT_DATE'] >= '2022-01-01') & (ogg_flights['FLIGHT_DATE'] <= '2022-10-31')]\n",
        "def calculate_cancellation_stats(dataframe, year):\n",
        "    cancelled_flights = dataframe[dataframe['CANCELLATION_CODE'].notna()]\n",
        "    cancelled_percentage = (len(cancelled_flights) / len(dataframe)) * 100 if len(dataframe) > 0 else 0\n",
        "    cancel_reason_percentage = cancelled_flights['CANCELLATION_CODE'].value_counts(normalize=True) * 100\n",
        "    print(f\"{year} 年的取消原因占比:\")\n",
        "    print(cancel_reason_percentage)\n",
        "calculate_cancellation_stats(df1_2020, 2020)\n",
        "calculate_cancellation_stats(df1_2021, 2021)\n",
        "calculate_cancellation_stats(df1_2022, 2022)"
      ],
      "metadata": {
        "colab": {
          "base_uri": "https://localhost:8080/"
        },
        "id": "xpLMKR5AXfos",
        "outputId": "c75ba3ef-78c5-4ba1-ff91-0433773aeb47"
      },
      "execution_count": 14,
      "outputs": [
        {
          "output_type": "stream",
          "name": "stdout",
          "text": [
            "2020 年的取消原因占比:\n",
            "CANCELLATION_CODE\n",
            "D    87.958115\n",
            "A    10.994764\n",
            "B     1.047120\n",
            "Name: proportion, dtype: float64\n",
            "2021 年的取消原因占比:\n",
            "CANCELLATION_CODE\n",
            "A    91.071429\n",
            "B     6.696429\n",
            "D     1.785714\n",
            "C     0.446429\n",
            "Name: proportion, dtype: float64\n",
            "2022 年的取消原因占比:\n",
            "CANCELLATION_CODE\n",
            "A    97.340426\n",
            "B     2.127660\n",
            "C     0.531915\n",
            "Name: proportion, dtype: float64\n"
          ]
        }
      ]
    },
    {
      "cell_type": "code",
      "source": [
        "iad_flights = df1[df1['ORIGIN'] == 'IAD']\n",
        "most_frequent_carrier = iad_flights['OP_CARRIER'].value_counts().idxmax()\n",
        "most_frequent_carrier_count = iad_flights['OP_CARRIER'].value_counts().max()\n",
        "carrier_flights = iad_flights[iad_flights['OP_CARRIER'] == most_frequent_carrier]\n",
        "cancelled_carrier_flights = carrier_flights[carrier_flights['CANCELLATION_CODE'].notna()]\n",
        "most_frequent_cancellation = cancelled_carrier_flights['CANCELLATION_CODE'].value_counts().idxmax()\n",
        "most_frequent_cancellation_count = cancelled_carrier_flights['CANCELLATION_CODE'].value_counts().max()\n",
        "print(f\"從IAD起飛次數最多的航班名是: {most_frequent_carrier}，共 {most_frequent_carrier_count} 次\")\n",
        "if not cancelled_carrier_flights.empty:\n",
        "    print(f\"該航班最常遇到的取消原因是: {most_frequent_cancellation}，出現了 {most_frequent_cancellation_count} 次\")\n",
        "else:\n",
        "    print(f\"該航班從未被取消\")"
      ],
      "metadata": {
        "colab": {
          "base_uri": "https://localhost:8080/"
        },
        "id": "JaXShzxMXwVy",
        "outputId": "71ef6bd2-00e8-403f-a70c-8180874f8399"
      },
      "execution_count": 15,
      "outputs": [
        {
          "output_type": "stream",
          "name": "stdout",
          "text": [
            "從IAD起飛次數最多的航班名是: AA，共 654 次\n",
            "該航班最常遇到的取消原因是: B，出現了 289 次\n"
          ]
        }
      ]
    },
    {
      "cell_type": "code",
      "source": [
        "affected_flights = merged_data[merged_data['Description'].isin(['National Air System', 'Security'])]\n",
        "affected_carriers = affected_flights['CARRIER_NAME'].unique()\n",
        "all_carriers = merged_data['CARRIER_NAME'].unique()\n",
        "unaffected_carriers = [carrier for carrier in all_carriers if carrier not in affected_carriers]\n",
        "carrier_cancellation_counts = affected_flights['CARRIER_NAME'].value_counts()\n",
        "print(\"未受到 'National Air System' 和 'Security' 取消航班的航空公司:\")\n",
        "print(unaffected_carriers)\n",
        "print(\"\\n曾經因 'National Air System' 和 'Security' 取消航班的航空公司以及取消次數:\")\n",
        "print(carrier_cancellation_counts)"
      ],
      "metadata": {
        "colab": {
          "base_uri": "https://localhost:8080/"
        },
        "id": "yvNywoEJX-bT",
        "outputId": "6d11fc61-512a-446f-a73a-53dc78c414d8"
      },
      "execution_count": 16,
      "outputs": [
        {
          "output_type": "stream",
          "name": "stdout",
          "text": [
            "未受到 'National Air System' 和 'Security' 取消航班的航空公司:\n",
            "['AnyCompany Red Airlines']\n",
            "\n",
            "曾經因 'National Air System' 和 'Security' 取消航班的航空公司以及取消次數:\n",
            "CARRIER_NAME\n",
            "AnyCompany Yellow Airlines      3848\n",
            "AnyCompany Sand Airlines        3617\n",
            "AnyCompany Blue Airlines        3378\n",
            "AnyCompany Eclipse Airlines     2747\n",
            "AnyCompany Green Airlines       2009\n",
            "AnyCompany Carrot Airlines      1728\n",
            "AnyCompany Apricot Airlines     1592\n",
            "AnyCompany Denim Airlines       1520\n",
            "AnyCompany Pink Airlines        1394\n",
            "AnyCompany Maroon Airlines       980\n",
            "AnyCompany Violet Airlines       787\n",
            "AnyCompany Flint Airlines        708\n",
            "AnyCompany Harp Airlines         620\n",
            "AnyCompany Lavender Airlines     198\n",
            "AnyCompany Indigo Airlines       129\n",
            "AnyCompany Orange Airlines        85\n",
            "Name: count, dtype: int64\n"
          ]
        }
      ]
    }
  ]
}